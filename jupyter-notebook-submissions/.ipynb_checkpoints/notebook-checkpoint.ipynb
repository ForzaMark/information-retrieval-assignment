{
 "cells": [
  {
   "cell_type": "markdown",
   "metadata": {},
   "source": [
    "# install deps"
   ]
  },
  {
   "cell_type": "code",
   "execution_count": null,
   "metadata": {},
   "outputs": [],
   "source": [
    "import os\n",
    "\n",
    "# Detect if we are in the TIRA sandbox\n",
    "# Install the required dependencies if we are not in the sandbox.\n",
    "if 'TIRA_DATASET_ID' not in os.environ:\n",
    "    !pip3 install python-terrier tira==0.0.88 ir_datasets\n",
    "else:\n",
    "    print('We are in the TIRA sandbox.')\n"
   ]
  },
  {
   "cell_type": "markdown",
   "metadata": {},
   "source": [
    "# import libs"
   ]
  },
  {
   "cell_type": "code",
   "execution_count": null,
   "metadata": {},
   "outputs": [],
   "source": [
    "# Import the required libraries\n",
    "print('importing libraries...')\n",
    "from tira.third_party_integrations import ensure_pyterrier_is_loaded, persist_and_normalize_run\n",
    "ensure_pyterrier_is_loaded()\n",
    "\n",
    "from load_dataset import load_dataset\n",
    "from create_index import create_index\n",
    "from create_model import create_model\n",
    "from generate_custom_stopwords_improved import generate_custom_stopwords_improved\n",
    "print('Done. Libraries imported.')"
   ]
  },
  {
   "cell_type": "markdown",
   "metadata": {},
   "source": [
    "# create run for different stopword sizes"
   ]
  },
  {
   "cell_type": "code",
   "execution_count": null,
   "metadata": {},
   "outputs": [],
   "source": [
    "import glob\n",
    "from create_index import create_index\n",
    "from load_dataset import load_dataset\n",
    "from datetime import datetime\n",
    "import json\n",
    "\n",
    "folder_path = './stopwordlists/custom/'\n",
    "pattern = 'custom_*.txt'\n",
    "custom_stopword_list = glob.glob(folder_path + pattern)\n",
    "training_dataset = 'ir-lab-jena-leipzig-wise-2023/training-20231104-training'\n",
    "load_dataset_result = load_dataset(training_dataset)\n",
    "queries = load_dataset(training_dataset)['queries']\n",
    "\n",
    "for improved_stopwords in custom_stopword_list:\n",
    "    run_name = improved_stopwords.replace(\"./stopwordlists/custom/\", '')\n",
    "    config = {'stopwords': improved_stopwords, 'stemmer': None}\n",
    "    print(\"RUN FOR STOPWORDS:\", run_name)\n",
    "\n",
    "    improved_index = create_index(load_dataset(training_dataset)['documents'], config)\n",
    "    print(\"index created\")\n",
    "\n",
    "    improved_model = create_model(improved_index)\n",
    "    print(\"model created\")\n",
    "\n",
    "    run = improved_model(queries)\n",
    "\n",
    "    output_dir = 'runs/training/improved-stopwords'\n",
    "    run_output_dir = output_dir + '/' + run_name\n",
    "\n",
    "    !rm -Rf {run_output_dir}\n",
    "    !mkdir -p {run_output_dir}\n",
    "\n",
    "    persist_and_normalize_run(run, run_name, run_output_dir)"
   ]
  },
  {
   "cell_type": "markdown",
   "metadata": {},
   "source": [
    "# compare to standard english stopword list"
   ]
  },
  {
   "cell_type": "code",
   "execution_count": null,
   "metadata": {},
   "outputs": [
    {
     "name": "stdout",
     "output_type": "stream",
     "text": [
      "No settings given in /root/.tira/.tira-settings.json. I will use defaults.\n",
      "No settings given in /root/.tira/.tira-settings.json. I will use defaults.\n",
      "file:  runs/training/improved-stopwords/custom_8.txt/run.txt\n"
     ]
    },
    {
     "name": "stderr",
     "output_type": "stream",
     "text": [
      "/usr/local/lib/python3.10/dist-packages/trectools/trec_eval.py:294: FutureWarning: The default of observed=False is deprecated and will be changed to True in a future version of pandas. Pass observed=False to retain current behavior or observed=True to adopt the future default and silence this warning.\n",
      "  selection = selection[~selection[\"rel\"].isnull()].groupby(\"query\").first().copy()\n"
     ]
    },
    {
     "name": "stdout",
     "output_type": "stream",
     "text": [
      "Data file not set yet\n"
     ]
    },
    {
     "name": "stderr",
     "output_type": "stream",
     "text": [
      "/usr/local/lib/python3.10/dist-packages/trectools/trec_eval.py:294: FutureWarning: The default of observed=False is deprecated and will be changed to True in a future version of pandas. Pass observed=False to retain current behavior or observed=True to adopt the future default and silence this warning.\n",
      "  selection = selection[~selection[\"rel\"].isnull()].groupby(\"query\").first().copy()\n"
     ]
    },
    {
     "name": "stdout",
     "output_type": "stream",
     "text": [
      "-----------------DONE-----------------\n",
      "file:  runs/training/improved-stopwords/custom_2.txt/run.txt\n"
     ]
    },
    {
     "name": "stderr",
     "output_type": "stream",
     "text": [
      "/usr/local/lib/python3.10/dist-packages/trectools/trec_eval.py:294: FutureWarning: The default of observed=False is deprecated and will be changed to True in a future version of pandas. Pass observed=False to retain current behavior or observed=True to adopt the future default and silence this warning.\n",
      "  selection = selection[~selection[\"rel\"].isnull()].groupby(\"query\").first().copy()\n"
     ]
    },
    {
     "name": "stdout",
     "output_type": "stream",
     "text": [
      "Data file not set yet\n"
     ]
    }
   ],
   "source": [
    "from trectools import TrecRun, TrecQrel, TrecEval\n",
    "from tira.rest_api_client import Client\n",
    "from glob import glob\n",
    "import pandas as pd\n",
    "tira = Client()\n",
    "\n",
    "folder_path = 'runs/training/improved-stopwords/'\n",
    "pattern = '**/run.txt'\n",
    "files = glob(folder_path + pattern)\n",
    "\n",
    "\n",
    "def load_qrels(dataset):\n",
    "    return TrecQrel(tira.download_dataset('ir-lab-jena-leipzig-wise-2023', dataset, truth_dataset=True) + '/qrels.txt')\n",
    "\n",
    "def evaluate_run(qrels, runFile):\n",
    "    run = TrecRun(runFile)\n",
    "    trec_eval = TrecEval(run, qrels)\n",
    "\n",
    "    return {\n",
    "        'run': run.get_runid(),\n",
    "        'nDCG@10': trec_eval.get_ndcg(depth=10),\n",
    "        'nDCG@10 (unjudgedRemoved)': trec_eval.get_ndcg(depth=10, removeUnjudged=True),\n",
    "        'MAP': trec_eval.get_map(depth=10),\n",
    "        'MRR': trec_eval.get_reciprocal_rank(),\n",
    "        'P@10': trec_eval.get_precision(depth=10),\n",
    "        'P': trec_eval.get_precision()\n",
    "    }\n",
    "\n",
    "def test_model(runFile):\n",
    "    training_qrels = load_qrels('training-20231104-training')\n",
    "\n",
    "    print(\"Overall performance:\\n\")\n",
    "    print(evaluate_run(training_qrels, runFile))\n",
    "    print(\"\\n\")\n",
    "\n",
    "result = []\n",
    "\n",
    "for file in files:\n",
    "    print(\"file: \", file)\n",
    "    result += [evaluate_run(load_qrels('training-20231104-training'), file)]\n",
    "    print(\"-----------------DONE-----------------\")\n",
    "\n",
    "print(\"Reference:\")\n",
    "reference_file = 'runs/standard_stopwords/run.txt'\n",
    "result += [evaluate_run(load_qrels('training-20231104-training'), reference_file)]\n",
    "\n",
    "df = pd.DataFrame(result)\n",
    "df.sort_values('nDCG@10', ascending=False)\n"
   ]
  },
  {
   "cell_type": "code",
   "execution_count": null,
   "metadata": {},
   "outputs": [],
   "source": []
  }
 ],
 "metadata": {
  "kernelspec": {
   "display_name": "Python 3 (ipykernel)",
   "language": "python",
   "name": "python3"
  },
  "language_info": {
   "codemirror_mode": {
    "name": "ipython",
    "version": 3
   },
   "file_extension": ".py",
   "mimetype": "text/x-python",
   "name": "python",
   "nbconvert_exporter": "python",
   "pygments_lexer": "ipython3",
   "version": "3.10.12"
  }
 },
 "nbformat": 4,
 "nbformat_minor": 4
}
